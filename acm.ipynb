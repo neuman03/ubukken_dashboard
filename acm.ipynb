{
 "cells": [
  {
   "cell_type": "code",
   "execution_count": 2,
   "metadata": {},
   "outputs": [
    {
     "name": "stdout",
     "output_type": "stream",
     "text": [
      "26期AcM部_獲得会員リスト.xlsx\n",
      "\u001b[34mGPR\u001b[m\u001b[m/\n",
      "\u001b[34mPrivate\u001b[m\u001b[m/\n",
      "acm.ipynb\n",
      "acm.xlsx\n",
      "~$26期AcM部_獲得会員リスト.xlsx\n",
      "~$acm.xlsx\n",
      "~$【26下期】物件増_受失注シート.xlsx\n",
      "【26下期】物件増_受失注シート.xlsx\n",
      "\u001b[34m賃貸\u001b[m\u001b[m/\n",
      "\u001b[34m異常検知\u001b[m\u001b[m/\n",
      "\u001b[34mガウス過程\u001b[m\u001b[m/\n"
     ]
    }
   ],
   "source": [
    "ls"
   ]
  },
  {
   "cell_type": "code",
   "execution_count": 11,
   "metadata": {},
   "outputs": [],
   "source": [
    "import pandas as pd"
   ]
  },
  {
   "cell_type": "code",
   "execution_count": 12,
   "metadata": {},
   "outputs": [
    {
     "data": {
      "text/html": [
       "<div>\n",
       "<style scoped>\n",
       "    .dataframe tbody tr th:only-of-type {\n",
       "        vertical-align: middle;\n",
       "    }\n",
       "\n",
       "    .dataframe tbody tr th {\n",
       "        vertical-align: top;\n",
       "    }\n",
       "\n",
       "    .dataframe thead th {\n",
       "        text-align: right;\n",
       "    }\n",
       "</style>\n",
       "<table border=\"1\" class=\"dataframe\">\n",
       "  <thead>\n",
       "    <tr style=\"text-align: right;\">\n",
       "      <th></th>\n",
       "      <th>計上日</th>\n",
       "      <th>HOME'S ID</th>\n",
       "      <th>担当名</th>\n",
       "      <th>社名</th>\n",
       "      <th>賃貸</th>\n",
       "      <th>賃売</th>\n",
       "    </tr>\n",
       "  </thead>\n",
       "  <tbody>\n",
       "    <tr>\n",
       "      <th>0</th>\n",
       "      <td>11月</td>\n",
       "      <td>140939.0</td>\n",
       "      <td>秋元 雄斗</td>\n",
       "      <td>株式会社ROOTS 清澄白河店</td>\n",
       "      <td>掲載課金</td>\n",
       "      <td>賃貸</td>\n",
       "    </tr>\n",
       "    <tr>\n",
       "      <th>1</th>\n",
       "      <td>11月</td>\n",
       "      <td>140940.0</td>\n",
       "      <td>秋元 雄斗</td>\n",
       "      <td>株式会社ROOTS　菊川店</td>\n",
       "      <td>掲載課金</td>\n",
       "      <td>賃貸</td>\n",
       "    </tr>\n",
       "    <tr>\n",
       "      <th>2</th>\n",
       "      <td>11月</td>\n",
       "      <td>140941.0</td>\n",
       "      <td>秋元 雄斗</td>\n",
       "      <td>株式会社ROOTS　両国店</td>\n",
       "      <td>掲載課金</td>\n",
       "      <td>賃貸</td>\n",
       "    </tr>\n",
       "    <tr>\n",
       "      <th>3</th>\n",
       "      <td>11月</td>\n",
       "      <td>140983.0</td>\n",
       "      <td>秋元 雄斗</td>\n",
       "      <td>株式会社タウンハウジング 大和店</td>\n",
       "      <td>-</td>\n",
       "      <td>店舗追加</td>\n",
       "    </tr>\n",
       "    <tr>\n",
       "      <th>4</th>\n",
       "      <td>11月</td>\n",
       "      <td>3103803.0</td>\n",
       "      <td>秋元 雄斗</td>\n",
       "      <td>株式会社レンタルハウス関西 岸里駅前店</td>\n",
       "      <td>反響課金</td>\n",
       "      <td>賃貸</td>\n",
       "    </tr>\n",
       "  </tbody>\n",
       "</table>\n",
       "</div>"
      ],
      "text/plain": [
       "   計上日  HOME'S ID    担当名                   社名    賃貸    賃売\n",
       "0  11月   140939.0  秋元 雄斗      株式会社ROOTS 清澄白河店  掲載課金    賃貸\n",
       "1  11月   140940.0  秋元 雄斗        株式会社ROOTS　菊川店  掲載課金    賃貸\n",
       "2  11月   140941.0  秋元 雄斗        株式会社ROOTS　両国店  掲載課金    賃貸\n",
       "3  11月   140983.0  秋元 雄斗     株式会社タウンハウジング 大和店     -  店舗追加\n",
       "4  11月  3103803.0  秋元 雄斗  株式会社レンタルハウス関西 岸里駅前店  反響課金    賃貸"
      ]
     },
     "execution_count": 12,
     "metadata": {},
     "output_type": "execute_result"
    }
   ],
   "source": [
    "df=pd.read_excel(\"acm.xlsx\")\n",
    "df.head()"
   ]
  },
  {
   "cell_type": "code",
   "execution_count": 15,
   "metadata": {},
   "outputs": [
    {
     "data": {
      "text/plain": [
       "計上日\n",
       "11月    78\n",
       "12月    75\n",
       "1月     64\n",
       "2月     78\n",
       "3月     72\n",
       "4月     88\n",
       "5月     51\n",
       "Name: HOME'S ID, dtype: int64"
      ]
     },
     "execution_count": 15,
     "metadata": {},
     "output_type": "execute_result"
    }
   ],
   "source": [
    "gb=df.groupby(\"計上日\").count()[\"HOME'S ID\"]\n",
    "gb"
   ]
  },
  {
   "cell_type": "code",
   "execution_count": 16,
   "metadata": {},
   "outputs": [],
   "source": [
    "gb.to_csv(\"asm.csv\")"
   ]
  },
  {
   "cell_type": "code",
   "execution_count": null,
   "metadata": {},
   "outputs": [],
   "source": []
  },
  {
   "cell_type": "code",
   "execution_count": null,
   "metadata": {},
   "outputs": [],
   "source": []
  }
 ],
 "metadata": {
  "kernelspec": {
   "display_name": "Python 3",
   "language": "python",
   "name": "python3"
  },
  "language_info": {
   "codemirror_mode": {
    "name": "ipython",
    "version": 3
   },
   "file_extension": ".py",
   "mimetype": "text/x-python",
   "name": "python",
   "nbconvert_exporter": "python",
   "pygments_lexer": "ipython3",
   "version": "3.7.3"
  }
 },
 "nbformat": 4,
 "nbformat_minor": 4
}
