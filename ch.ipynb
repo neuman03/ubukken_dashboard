{
 "cells": [
  {
   "cell_type": "code",
   "execution_count": 1,
   "metadata": {},
   "outputs": [
    {
     "data": {
      "text/html": [
       "<div>\n",
       "<style scoped>\n",
       "    .dataframe tbody tr th:only-of-type {\n",
       "        vertical-align: middle;\n",
       "    }\n",
       "\n",
       "    .dataframe tbody tr th {\n",
       "        vertical-align: top;\n",
       "    }\n",
       "\n",
       "    .dataframe thead th {\n",
       "        text-align: right;\n",
       "    }\n",
       "</style>\n",
       "<table border=\"1\" class=\"dataframe\">\n",
       "  <thead>\n",
       "    <tr style=\"text-align: right;\">\n",
       "      <th></th>\n",
       "      <th>ID</th>\n",
       "      <th>会員名</th>\n",
       "      <th>プラン</th>\n",
       "      <th>見込料率</th>\n",
       "      <th>見込U物件増</th>\n",
       "      <th>掲載開始時期</th>\n",
       "      <th>握り掲載数</th>\n",
       "    </tr>\n",
       "  </thead>\n",
       "  <tbody>\n",
       "    <tr>\n",
       "      <th>0</th>\n",
       "      <td>127445</td>\n",
       "      <td>株式会社オーリック不動産　エイブルネットワーク天文館店</td>\n",
       "      <td>その他</td>\n",
       "      <td>0.075</td>\n",
       "      <td>74</td>\n",
       "      <td>43891</td>\n",
       "      <td>230</td>\n",
       "    </tr>\n",
       "    <tr>\n",
       "      <th>1</th>\n",
       "      <td>127446</td>\n",
       "      <td>株式会社オーリック不動産　エイブルネットワーク姶良加治木店</td>\n",
       "      <td>その他</td>\n",
       "      <td>0.075</td>\n",
       "      <td>0</td>\n",
       "      <td>43891</td>\n",
       "      <td>77</td>\n",
       "    </tr>\n",
       "    <tr>\n",
       "      <th>2</th>\n",
       "      <td>127448</td>\n",
       "      <td>株式会社オーリック不動産　エイブルネットワーク鹿屋店</td>\n",
       "      <td>その他</td>\n",
       "      <td>0.075</td>\n",
       "      <td>33</td>\n",
       "      <td>43891</td>\n",
       "      <td>330</td>\n",
       "    </tr>\n",
       "    <tr>\n",
       "      <th>3</th>\n",
       "      <td>127451</td>\n",
       "      <td>株式会社オーリック不動産　エイブルネットワーク国分霧島店</td>\n",
       "      <td>その他</td>\n",
       "      <td>0.075</td>\n",
       "      <td>1</td>\n",
       "      <td>43891</td>\n",
       "      <td>500</td>\n",
       "    </tr>\n",
       "    <tr>\n",
       "      <th>4</th>\n",
       "      <td>127452</td>\n",
       "      <td>株式会社オーリック不動産　エイブルネットワーク谷山店</td>\n",
       "      <td>その他</td>\n",
       "      <td>0.075</td>\n",
       "      <td>27</td>\n",
       "      <td>43891</td>\n",
       "      <td>350</td>\n",
       "    </tr>\n",
       "  </tbody>\n",
       "</table>\n",
       "</div>"
      ],
      "text/plain": [
       "       ID                            会員名  プラン   見込料率  見込U物件増  掲載開始時期 握り掲載数\n",
       "0  127445    株式会社オーリック不動産　エイブルネットワーク天文館店  その他  0.075      74   43891   230\n",
       "1  127446  株式会社オーリック不動産　エイブルネットワーク姶良加治木店  その他  0.075       0   43891    77\n",
       "2  127448     株式会社オーリック不動産　エイブルネットワーク鹿屋店  その他  0.075      33   43891   330\n",
       "3  127451   株式会社オーリック不動産　エイブルネットワーク国分霧島店  その他  0.075       1   43891   500\n",
       "4  127452     株式会社オーリック不動産　エイブルネットワーク谷山店  その他  0.075      27   43891   350"
      ]
     },
     "execution_count": 1,
     "metadata": {},
     "output_type": "execute_result"
    }
   ],
   "source": [
    "import pandas as pd\n",
    "df=pd.read_excel(\"ch.xlsx\")\n",
    "df.head()"
   ]
  },
  {
   "cell_type": "code",
   "execution_count": 2,
   "metadata": {},
   "outputs": [],
   "source": [
    "def excel_date(num):\n",
    "    from datetime import datetime, timedelta\n",
    "    return(datetime(1899, 12, 30) + timedelta(days=num))"
   ]
  },
  {
   "cell_type": "code",
   "execution_count": 3,
   "metadata": {},
   "outputs": [],
   "source": [
    "df[\"掲載開始時期\"]=df[\"掲載開始時期\"].apply(excel_date)"
   ]
  },
  {
   "cell_type": "code",
   "execution_count": 9,
   "metadata": {},
   "outputs": [
    {
     "data": {
      "text/plain": [
       "numpy.datetime64"
      ]
     },
     "execution_count": 9,
     "metadata": {},
     "output_type": "execute_result"
    }
   ],
   "source": [
    "type(df[\"掲載開始時期\"].values[1])"
   ]
  },
  {
   "cell_type": "code",
   "execution_count": 12,
   "metadata": {},
   "outputs": [],
   "source": [
    "#pd.DatetimeIndex\n",
    "df[\"掲載開始月\"]=pd.DatetimeIndex(df[\"掲載開始時期\"]).month"
   ]
  },
  {
   "cell_type": "code",
   "execution_count": 13,
   "metadata": {},
   "outputs": [
    {
     "data": {
      "text/html": [
       "<div>\n",
       "<style scoped>\n",
       "    .dataframe tbody tr th:only-of-type {\n",
       "        vertical-align: middle;\n",
       "    }\n",
       "\n",
       "    .dataframe tbody tr th {\n",
       "        vertical-align: top;\n",
       "    }\n",
       "\n",
       "    .dataframe thead th {\n",
       "        text-align: right;\n",
       "    }\n",
       "</style>\n",
       "<table border=\"1\" class=\"dataframe\">\n",
       "  <thead>\n",
       "    <tr style=\"text-align: right;\">\n",
       "      <th></th>\n",
       "      <th>ID</th>\n",
       "      <th>会員名</th>\n",
       "      <th>プラン</th>\n",
       "      <th>見込料率</th>\n",
       "      <th>見込U物件増</th>\n",
       "      <th>掲載開始時期</th>\n",
       "      <th>握り掲載数</th>\n",
       "      <th>掲載開始月</th>\n",
       "    </tr>\n",
       "  </thead>\n",
       "  <tbody>\n",
       "    <tr>\n",
       "      <th>0</th>\n",
       "      <td>127445</td>\n",
       "      <td>株式会社オーリック不動産　エイブルネットワーク天文館店</td>\n",
       "      <td>その他</td>\n",
       "      <td>0.075</td>\n",
       "      <td>74</td>\n",
       "      <td>2020-03-01</td>\n",
       "      <td>230</td>\n",
       "      <td>3</td>\n",
       "    </tr>\n",
       "    <tr>\n",
       "      <th>1</th>\n",
       "      <td>127446</td>\n",
       "      <td>株式会社オーリック不動産　エイブルネットワーク姶良加治木店</td>\n",
       "      <td>その他</td>\n",
       "      <td>0.075</td>\n",
       "      <td>0</td>\n",
       "      <td>2020-03-01</td>\n",
       "      <td>77</td>\n",
       "      <td>3</td>\n",
       "    </tr>\n",
       "    <tr>\n",
       "      <th>2</th>\n",
       "      <td>127448</td>\n",
       "      <td>株式会社オーリック不動産　エイブルネットワーク鹿屋店</td>\n",
       "      <td>その他</td>\n",
       "      <td>0.075</td>\n",
       "      <td>33</td>\n",
       "      <td>2020-03-01</td>\n",
       "      <td>330</td>\n",
       "      <td>3</td>\n",
       "    </tr>\n",
       "    <tr>\n",
       "      <th>3</th>\n",
       "      <td>127451</td>\n",
       "      <td>株式会社オーリック不動産　エイブルネットワーク国分霧島店</td>\n",
       "      <td>その他</td>\n",
       "      <td>0.075</td>\n",
       "      <td>1</td>\n",
       "      <td>2020-03-01</td>\n",
       "      <td>500</td>\n",
       "      <td>3</td>\n",
       "    </tr>\n",
       "    <tr>\n",
       "      <th>4</th>\n",
       "      <td>127452</td>\n",
       "      <td>株式会社オーリック不動産　エイブルネットワーク谷山店</td>\n",
       "      <td>その他</td>\n",
       "      <td>0.075</td>\n",
       "      <td>27</td>\n",
       "      <td>2020-03-01</td>\n",
       "      <td>350</td>\n",
       "      <td>3</td>\n",
       "    </tr>\n",
       "  </tbody>\n",
       "</table>\n",
       "</div>"
      ],
      "text/plain": [
       "       ID                            会員名  プラン   見込料率  見込U物件増     掲載開始時期 握り掲載数  \\\n",
       "0  127445    株式会社オーリック不動産　エイブルネットワーク天文館店  その他  0.075      74 2020-03-01   230   \n",
       "1  127446  株式会社オーリック不動産　エイブルネットワーク姶良加治木店  その他  0.075       0 2020-03-01    77   \n",
       "2  127448     株式会社オーリック不動産　エイブルネットワーク鹿屋店  その他  0.075      33 2020-03-01   330   \n",
       "3  127451   株式会社オーリック不動産　エイブルネットワーク国分霧島店  その他  0.075       1 2020-03-01   500   \n",
       "4  127452     株式会社オーリック不動産　エイブルネットワーク谷山店  その他  0.075      27 2020-03-01   350   \n",
       "\n",
       "   掲載開始月  \n",
       "0      3  \n",
       "1      3  \n",
       "2      3  \n",
       "3      3  \n",
       "4      3  "
      ]
     },
     "execution_count": 13,
     "metadata": {},
     "output_type": "execute_result"
    }
   ],
   "source": [
    "df.head()"
   ]
  },
  {
   "cell_type": "code",
   "execution_count": 23,
   "metadata": {},
   "outputs": [
    {
     "data": {
      "text/plain": [
       "掲載開始月\n",
       "1    309\n",
       "2    144\n",
       "3    241\n",
       "4    586\n",
       "5    126\n",
       "6    200\n",
       "7      9\n",
       "Name: ID, dtype: int64"
      ]
     },
     "execution_count": 23,
     "metadata": {},
     "output_type": "execute_result"
    }
   ],
   "source": [
    "ids=df.groupby(\"掲載開始月\").count()[\"ID\"]\n",
    "ids"
   ]
  },
  {
   "cell_type": "code",
   "execution_count": 24,
   "metadata": {},
   "outputs": [],
   "source": [
    "ids.to_csv(\"ch_id.csv\")"
   ]
  },
  {
   "cell_type": "code",
   "execution_count": 18,
   "metadata": {},
   "outputs": [
    {
     "data": {
      "text/plain": [
       "掲載開始月\n",
       "1    309\n",
       "2    144\n",
       "3    241\n",
       "4    586\n",
       "5    126\n",
       "6    200\n",
       "7      9\n",
       "Name: 会員名, dtype: int64"
      ]
     },
     "execution_count": 18,
     "metadata": {},
     "output_type": "execute_result"
    }
   ],
   "source": [
    "ids=df.groupby(\"掲載開始月\").count()[\"会員名\"]\n",
    "ids"
   ]
  },
  {
   "cell_type": "code",
   "execution_count": 25,
   "metadata": {},
   "outputs": [
    {
     "data": {
      "text/plain": [
       "掲載開始月\n",
       "1     4055\n",
       "2    43494\n",
       "3    17756\n",
       "4    15005\n",
       "5     5966\n",
       "6     2757\n",
       "7      659\n",
       "Name: 見込U物件増, dtype: int64"
      ]
     },
     "execution_count": 25,
     "metadata": {},
     "output_type": "execute_result"
    }
   ],
   "source": [
    "b=df.groupby(\"掲載開始月\").sum()[\"見込U物件増\"]\n",
    "b"
   ]
  },
  {
   "cell_type": "code",
   "execution_count": 26,
   "metadata": {},
   "outputs": [],
   "source": [
    "b.to_csv(\"ch_bnum.csv\")"
   ]
  },
  {
   "cell_type": "code",
   "execution_count": null,
   "metadata": {},
   "outputs": [],
   "source": []
  }
 ],
 "metadata": {
  "kernelspec": {
   "display_name": "Python 3",
   "language": "python",
   "name": "python3"
  },
  "language_info": {
   "codemirror_mode": {
    "name": "ipython",
    "version": 3
   },
   "file_extension": ".py",
   "mimetype": "text/x-python",
   "name": "python",
   "nbconvert_exporter": "python",
   "pygments_lexer": "ipython3",
   "version": "3.7.3"
  }
 },
 "nbformat": 4,
 "nbformat_minor": 4
}
